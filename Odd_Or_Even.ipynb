{
  "nbformat": 4,
  "nbformat_minor": 0,
  "metadata": {
    "colab": {
      "name": "Odd Or Even.ipynb",
      "provenance": [],
      "authorship_tag": "ABX9TyNEM0vHxTMmf8SzTlAvk6Lx"
    },
    "kernelspec": {
      "name": "python3",
      "display_name": "Python 3"
    }
  },
  "cells": [
    {
      "cell_type": "markdown",
      "metadata": {
        "id": "mP2ZLgXlncij"
      },
      "source": [
        "Ask the user for a number. Depending on whether the number is even or odd, print out an appropriate message to the user.\n",
        "\n",
        "Here we will use If statement and the modulas operator %.\n",
        "\n",
        "The modulas operator returns the remainder of a division function."
      ]
    },
    {
      "cell_type": "code",
      "metadata": {
        "colab": {
          "base_uri": "https://localhost:8080/"
        },
        "id": "wVnZBqQsn5ai",
        "outputId": "b8ab666b-dee6-4cf7-c0fb-b49feaec2ba5"
      },
      "source": [
        "try:\n",
        "  num = int(input(\"Enter a non-zero number:\"))\n",
        "  if num != 0:\n",
        "    remainder = num % 2\n",
        "    if remainder == 0: \n",
        "     print(num, \"is an even number.\")\n",
        "    else:  \n",
        "      print(num, \"is an odd number.\")\n",
        "      quit()\n",
        "  else:\n",
        "   print(\"You entered Zero. Please enter a non-zero number\")\n",
        "  quit()\n",
        "except:\n",
        "  print(\"Enter a non-zero integer\")"
      ],
      "execution_count": 3,
      "outputs": [
        {
          "output_type": "stream",
          "text": [
            "Enter a non-zero number:0.45\n",
            "Enter a non-zero integer\n"
          ],
          "name": "stdout"
        }
      ]
    }
  ]
}