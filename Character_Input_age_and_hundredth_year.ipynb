{
  "nbformat": 4,
  "nbformat_minor": 0,
  "metadata": {
    "colab": {
      "name": "Character Input - age and hundredth year.ipynb",
      "provenance": [],
      "authorship_tag": "ABX9TyNLd/4eQVMKIFYsejRVVovU",
      "include_colab_link": true
    },
    "kernelspec": {
      "name": "python3",
      "display_name": "Python 3"
    }
  },
  "cells": [
    {
      "cell_type": "markdown",
      "metadata": {
        "id": "view-in-github",
        "colab_type": "text"
      },
      "source": [
        "<a href=\"https://colab.research.google.com/github/richa-cfa/Learning-Python/blob/main/Character_Input_age_and_hundredth_year.ipynb\" target=\"_parent\"><img src=\"https://colab.research.google.com/assets/colab-badge.svg\" alt=\"Open In Colab\"/></a>"
      ]
    },
    {
      "cell_type": "markdown",
      "metadata": {
        "id": "pIrHHXiKbD7q"
      },
      "source": [
        "TASK: Create a program that asks the user to enter their name and age. Print out a message addressed to them that tells them the year that they will turn 100 years old."
      ]
    },
    {
      "cell_type": "code",
      "metadata": {
        "colab": {
          "base_uri": "https://localhost:8080/"
        },
        "id": "qPdcYCOebHjh",
        "outputId": "1f8b2109-7658-4feb-bedb-3e82a62f3b62"
      },
      "source": [
        "name = input(\"Please enter your name: \")\n",
        "age = input(\"Please enter your age:\")"
      ],
      "execution_count": 26,
      "outputs": [
        {
          "output_type": "stream",
          "text": [
            "Please enter your name: Robert\n",
            "Please enter your age:79\n"
          ],
          "name": "stdout"
        }
      ]
    },
    {
      "cell_type": "markdown",
      "metadata": {
        "id": "w7p5qYIYcmi4"
      },
      "source": [
        "We will calculate the year of birth of this person. \n",
        "To calculate this, we need the year we are in TODAY and subtract the person's age from it.\n",
        "For this we need to import the datetime module.\n",
        "Since Datetime module comes built into Python, so there is no need to install it externally."
      ]
    },
    {
      "cell_type": "code",
      "metadata": {
        "id": "eF6SBA_Pc9aT"
      },
      "source": [
        "import datetime as d"
      ],
      "execution_count": 27,
      "outputs": []
    },
    {
      "cell_type": "markdown",
      "metadata": {
        "id": "RXR-csgZfI7h"
      },
      "source": [
        "### Now datetime module has some built-in funtions, under its \"**datetime**\" class, that gives us the current date and time. these functions are: **date.today()** and **datetime.now()**"
      ]
    },
    {
      "cell_type": "code",
      "metadata": {
        "colab": {
          "base_uri": "https://localhost:8080/"
        },
        "id": "0QKV1diqfaM_",
        "outputId": "91101211-770a-4907-f18b-80e7b7c60611"
      },
      "source": [
        "current_date = datetime.date.today()\n",
        "current_time = datetime.datetime.now()\n",
        "print(current_date, current_time)"
      ],
      "execution_count": 28,
      "outputs": [
        {
          "output_type": "stream",
          "text": [
            "2020-12-16 2020-12-16 03:26:05.060586\n"
          ],
          "name": "stdout"
        }
      ]
    },
    {
      "cell_type": "markdown",
      "metadata": {
        "id": "r_KimECpisF9"
      },
      "source": [
        "We now need to know the current year and calculate the year this perosn will turn 100 in."
      ]
    },
    {
      "cell_type": "code",
      "metadata": {
        "colab": {
          "base_uri": "https://localhost:8080/"
        },
        "id": "ElEsaHK0i-w2",
        "outputId": "23daa178-d58f-4355-8bf3-cd7e9723bffc"
      },
      "source": [
        "current_year = current_date.year\n",
        "year_of_birth = current_year - int(age)\n",
        "hundredth_year = current_year + (100-int(age))\n",
        "print(\"Hi\",name,\" We are in the year: \",current_year)\n",
        "print(\"You are age:\", age, \" and were probably born in the year:\",year_of_birth)\n",
        "print(\"You will turn 100 in the year: \", hundredth_year)"
      ],
      "execution_count": 29,
      "outputs": [
        {
          "output_type": "stream",
          "text": [
            "Hi Robert  We are in the year:  2020\n",
            "You are age: 79  and were probably born in the year: 1941\n",
            "You will turn 100 in the year:  2041\n"
          ],
          "name": "stdout"
        }
      ]
    }
  ]
}